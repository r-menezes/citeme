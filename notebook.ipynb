{
 "cells": [
  {
   "cell_type": "markdown",
   "metadata": {},
   "source": [
    "## Exemplificação da utilização da busca semântica"
   ]
  },
  {
   "cell_type": "code",
   "execution_count": 1,
   "metadata": {},
   "outputs": [],
   "source": [
    "import numpy as np\n",
    "import pandas as pd\n",
    "\n",
    "from corpus_embed import CorpusEmbed\n",
    "from clean_and_divide_sentences import create_sentence_df"
   ]
  },
  {
   "cell_type": "code",
   "execution_count": 2,
   "metadata": {},
   "outputs": [],
   "source": [
    "df = pd.read_parquet(\"sentence_bioPE_corpus.parquet\")"
   ]
  },
  {
   "cell_type": "code",
   "execution_count": 3,
   "metadata": {},
   "outputs": [
    {
     "data": {
      "text/html": [
       "<div>\n",
       "<style scoped>\n",
       "    .dataframe tbody tr th:only-of-type {\n",
       "        vertical-align: middle;\n",
       "    }\n",
       "\n",
       "    .dataframe tbody tr th {\n",
       "        vertical-align: top;\n",
       "    }\n",
       "\n",
       "    .dataframe thead th {\n",
       "        text-align: right;\n",
       "    }\n",
       "</style>\n",
       "<table border=\"1\" class=\"dataframe\">\n",
       "  <thead>\n",
       "    <tr style=\"text-align: right;\">\n",
       "      <th></th>\n",
       "      <th>id</th>\n",
       "      <th>authors</th>\n",
       "      <th>doi</th>\n",
       "      <th>categories</th>\n",
       "      <th>update_date</th>\n",
       "      <th>title</th>\n",
       "      <th>sentence</th>\n",
       "    </tr>\n",
       "  </thead>\n",
       "  <tbody>\n",
       "    <tr>\n",
       "      <th>count</th>\n",
       "      <td>98236</td>\n",
       "      <td>98236</td>\n",
       "      <td>40419</td>\n",
       "      <td>98236</td>\n",
       "      <td>98236</td>\n",
       "      <td>98236</td>\n",
       "      <td>98236</td>\n",
       "    </tr>\n",
       "    <tr>\n",
       "      <th>unique</th>\n",
       "      <td>11354</td>\n",
       "      <td>10044</td>\n",
       "      <td>4689</td>\n",
       "      <td>1723</td>\n",
       "      <td>3508</td>\n",
       "      <td>11352</td>\n",
       "      <td>95905</td>\n",
       "    </tr>\n",
       "    <tr>\n",
       "      <th>top</th>\n",
       "      <td>1707.02447</td>\n",
       "      <td>Steven A. Frank</td>\n",
       "      <td>10.1016/j.epidem.2021.100530</td>\n",
       "      <td>q-bio.PE</td>\n",
       "      <td>2007-05-23</td>\n",
       "      <td>Pediatric hospitalizations associated with res...</td>\n",
       "      <td>e</td>\n",
       "    </tr>\n",
       "    <tr>\n",
       "      <th>freq</th>\n",
       "      <td>81</td>\n",
       "      <td>420</td>\n",
       "      <td>39</td>\n",
       "      <td>27834</td>\n",
       "      <td>3703</td>\n",
       "      <td>81</td>\n",
       "      <td>739</td>\n",
       "    </tr>\n",
       "  </tbody>\n",
       "</table>\n",
       "</div>"
      ],
      "text/plain": [
       "                id          authors                           doi categories  \\\n",
       "count        98236            98236                         40419      98236   \n",
       "unique       11354            10044                          4689       1723   \n",
       "top     1707.02447  Steven A. Frank  10.1016/j.epidem.2021.100530   q-bio.PE   \n",
       "freq            81              420                            39      27834   \n",
       "\n",
       "       update_date                                              title sentence  \n",
       "count        98236                                              98236    98236  \n",
       "unique        3508                                              11352    95905  \n",
       "top     2007-05-23  Pediatric hospitalizations associated with res...        e  \n",
       "freq          3703                                                 81      739  "
      ]
     },
     "execution_count": 3,
     "metadata": {},
     "output_type": "execute_result"
    }
   ],
   "source": [
    "df.describe()"
   ]
  },
  {
   "cell_type": "code",
   "execution_count": 12,
   "metadata": {},
   "outputs": [],
   "source": [
    "df = df.sample(n=1000)"
   ]
  },
  {
   "cell_type": "code",
   "execution_count": 9,
   "metadata": {},
   "outputs": [
    {
     "ename": "AssertionError",
     "evalue": "Either a file or a DataFrame must be provided",
     "output_type": "error",
     "traceback": [
      "\u001b[31m---------------------------------------------------------------------------\u001b[39m",
      "\u001b[31mAssertionError\u001b[39m                            Traceback (most recent call last)",
      "\u001b[36mCell\u001b[39m\u001b[36m \u001b[39m\u001b[32mIn[9]\u001b[39m\u001b[32m, line 1\u001b[39m\n\u001b[32m----> \u001b[39m\u001b[32m1\u001b[39m emb = \u001b[43mCorpusEmbed\u001b[49m\u001b[43m(\u001b[49m\u001b[43mmodel\u001b[49m\u001b[43m=\u001b[49m\u001b[33;43m\"\u001b[39;49m\u001b[33;43mallenai-specter\u001b[39;49m\u001b[33;43m\"\u001b[39;49m\u001b[43m,\u001b[49m\n\u001b[32m      2\u001b[39m \u001b[43m                \u001b[49m\u001b[43msentence_df\u001b[49m\u001b[43m=\u001b[49m\u001b[43mdf\u001b[49m\u001b[43m,\u001b[49m\n\u001b[32m      3\u001b[39m \u001b[43m                \u001b[49m\u001b[43mload_file\u001b[49m\u001b[43m=\u001b[49m\u001b[33;43m\"\u001b[39;49m\u001b[33;43membeddings.npy\u001b[39;49m\u001b[33;43m\"\u001b[39;49m\u001b[43m)\u001b[49m\n\u001b[32m      4\u001b[39m emb.load_embeddings()\n",
      "\u001b[36mFile \u001b[39m\u001b[32m~/M/1-projetos/015-MBA_data_science/tcc/src/corpus_embed.py:10\u001b[39m, in \u001b[36mCorpusEmbed.__init__\u001b[39m\u001b[34m(self, model, load_file, sentence_df, sentence_column)\u001b[39m\n\u001b[32m      8\u001b[39m \u001b[38;5;28;01mdef\u001b[39;00m\u001b[38;5;250m \u001b[39m\u001b[34m__init__\u001b[39m(\u001b[38;5;28mself\u001b[39m, model=\u001b[33m'\u001b[39m\u001b[33mallenai-specter\u001b[39m\u001b[33m'\u001b[39m, load_file=\u001b[38;5;28;01mNone\u001b[39;00m, sentence_df=\u001b[38;5;28;01mNone\u001b[39;00m, sentence_column=\u001b[33m'\u001b[39m\u001b[33msentence\u001b[39m\u001b[33m'\u001b[39m):\n\u001b[32m---> \u001b[39m\u001b[32m10\u001b[39m     \u001b[38;5;28;01massert\u001b[39;00m (load_file \u001b[38;5;129;01mis\u001b[39;00m \u001b[38;5;129;01mnot\u001b[39;00m \u001b[38;5;28;01mNone\u001b[39;00m) != (sentence_df \u001b[38;5;129;01mis\u001b[39;00m \u001b[38;5;129;01mnot\u001b[39;00m \u001b[38;5;28;01mNone\u001b[39;00m), \u001b[33m\"\u001b[39m\u001b[33mEither a file or a DataFrame must be provided\u001b[39m\u001b[33m\"\u001b[39m\n\u001b[32m     12\u001b[39m     \u001b[38;5;66;03m# self.id_column = id_column\u001b[39;00m\n\u001b[32m     13\u001b[39m     \u001b[38;5;28mself\u001b[39m.sentence_column = sentence_column\n",
      "\u001b[31mAssertionError\u001b[39m: Either a file or a DataFrame must be provided"
     ]
    }
   ],
   "source": [
    "emb = CorpusEmbed(model=\"allenai-specter\",\n",
    "                sentence_df=df,\n",
    "                load_file=\"embeddings.npy\")\n",
    "emb.load_embeddings()"
   ]
  },
  {
   "cell_type": "code",
   "execution_count": 6,
   "metadata": {},
   "outputs": [
    {
     "name": "stdout",
     "output_type": "stream",
     "text": [
      "Saving embeddings to ./embeddings.npy and metadata to ./embeddings_metadata.parquet\n",
      "Done!\n"
     ]
    }
   ],
   "source": [
    "emb.save_embeddings()"
   ]
  },
  {
   "cell_type": "code",
   "execution_count": 5,
   "metadata": {},
   "outputs": [
    {
     "name": "stdout",
     "output_type": "stream",
     "text": [
      "\n",
      "\n",
      "Phrase: A well mixed model does not take into account the spatial distribution of the population\n",
      "Related papers:\n",
      "\n",
      "----------\n",
      "Similarity: 0.9474303722381592\n",
      "Title: Detection of correlation between genotypes and environmental variables.   A fast computational approach for genomewide studies\n",
      "Authors: Gilles Guillot\n",
      "2013-08-13\n",
      "DOI: https://doi.org/nan\n",
      "arXiV: https://arxiv.org/abs/1206.0889\n",
      "----------\n",
      "\n",
      "----------\n",
      "Similarity: 0.9342004060745239\n",
      "Title: Evolutionary Dynamics for Persistent Cooperation in Structured   Populations\n",
      "Authors: Yan Li, Xinsheng Liu, Jens Christian Claussen and Wanlin Guo\n",
      "2019-07-15\n",
      "DOI: https://doi.org/10.1103/PhysRevE.91.062802\n",
      "arXiV: https://arxiv.org/abs/1505.04989\n",
      "----------\n",
      "\n",
      "----------\n",
      "Similarity: 0.9300898313522339\n",
      "Title: A mathematical formalism for natural selection with arbitrary spatial   and genetic structure\n",
      "Authors: Benjamin Allen, Alex McAvoy\n",
      "2021-02-05\n",
      "DOI: https://doi.org/10.1007/s00285-018-1305-z\n",
      "arXiV: https://arxiv.org/abs/1806.04717\n",
      "----------\n",
      "\n",
      "----------\n",
      "Similarity: 0.9277019500732422\n",
      "Title: Demographic effects of aggregation in the presence of a component Allee   effect\n",
      "Authors: Daniel Cardoso Pereira Jorge and Ricardo Martinez-Garcia\n",
      "2023-05-24\n",
      "DOI: https://doi.org/nan\n",
      "arXiV: https://arxiv.org/abs/2305.13414\n",
      "----------\n",
      "\n",
      "----------\n",
      "Similarity: 0.9213871359825134\n",
      "Title: Spatial measures of genetic heterogeneity during carcinogenesis\n",
      "Authors: K. Storey, M.D. Ryser, K. Leder, J. Foo\n",
      "2015-11-03\n",
      "DOI: https://doi.org/nan\n",
      "arXiV: https://arxiv.org/abs/1511.00062\n",
      "----------\n",
      "\n",
      "----------\n",
      "Similarity: 0.9205227494239807\n",
      "Title: Accumulation of beneficial mutations in one dimension\n",
      "Authors: Jakub Otwinowski, Stefan Boettcher\n",
      "2013-02-19\n",
      "DOI: https://doi.org/10.1103/PhysRevE.84.011925\n",
      "arXiV: https://arxiv.org/abs/1103.5685\n",
      "----------\n",
      "\n",
      "----------\n",
      "Similarity: 0.9186660647392273\n",
      "Title: Dynamics of advantageous mutant spread in spatial death-birth and   birth-death Moran models\n",
      "Authors: Jasmine Foo and Einar Bjarki Gunnarsson and Kevin Leder and David\n",
      "  Sivakoff\n",
      "2022-09-27\n",
      "DOI: https://doi.org/nan\n",
      "arXiV: https://arxiv.org/abs/2209.11852\n",
      "----------\n"
     ]
    }
   ],
   "source": [
    "emb.search_reference(\"A well mixed model does not take into account the spatial distribution of the population\")"
   ]
  },
  {
   "cell_type": "code",
   "execution_count": 11,
   "metadata": {},
   "outputs": [
    {
     "data": {
      "text/plain": [
       "'We investigate the effects of strong number fluctuations on traveling waves in the Fisher-Kolmogorov reaction-diffusion system'"
      ]
     },
     "execution_count": 11,
     "metadata": {},
     "output_type": "execute_result"
    }
   ],
   "source": [
    "# get metadata\n",
    "df.iloc[4233].sentence"
   ]
  }
 ],
 "metadata": {
  "kernelspec": {
   "display_name": "base",
   "language": "python",
   "name": "python3"
  },
  "language_info": {
   "codemirror_mode": {
    "name": "ipython",
    "version": 3
   },
   "file_extension": ".py",
   "mimetype": "text/x-python",
   "name": "python",
   "nbconvert_exporter": "python",
   "pygments_lexer": "ipython3",
   "version": "3.12.9"
  }
 },
 "nbformat": 4,
 "nbformat_minor": 2
}
