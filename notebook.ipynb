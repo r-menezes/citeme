{
 "cells": [
  {
   "cell_type": "code",
   "execution_count": 1,
   "metadata": {},
   "outputs": [
    {
     "name": "stderr",
     "output_type": "stream",
     "text": [
      "/home/rafael/micromamba/envs/cite/lib/python3.12/site-packages/sentence_transformers/cross_encoder/CrossEncoder.py:11: TqdmWarning: IProgress not found. Please update jupyter and ipywidgets. See https://ipywidgets.readthedocs.io/en/stable/user_install.html\n",
      "  from tqdm.autonotebook import tqdm, trange\n"
     ]
    }
   ],
   "source": [
    "import numpy as np\n",
    "import pandas as pd\n",
    "\n",
    "from corpus_embed import CorpusEmbed\n",
    "from clean_and_divide_sentences import create_sentence_df"
   ]
  },
  {
   "cell_type": "code",
   "execution_count": 2,
   "metadata": {},
   "outputs": [],
   "source": [
    "df = pd.read_parquet(\"sentence_bio_dataset.parquet\")"
   ]
  },
  {
   "cell_type": "code",
   "execution_count": 3,
   "metadata": {},
   "outputs": [],
   "source": [
    "df = df.sample(n=100)"
   ]
  },
  {
   "cell_type": "code",
   "execution_count": 4,
   "metadata": {},
   "outputs": [
    {
     "name": "stdout",
     "output_type": "stream",
     "text": [
      "Loading model...\n"
     ]
    },
    {
     "name": "stderr",
     "output_type": "stream",
     "text": [
      "/home/rafael/micromamba/envs/cite/lib/python3.12/site-packages/huggingface_hub/file_download.py:1132: FutureWarning: `resume_download` is deprecated and will be removed in version 1.0.0. Downloads always resume when possible. If you want to force a new download, use `force_download=True`.\n",
      "  warnings.warn(\n"
     ]
    },
    {
     "name": "stdout",
     "output_type": "stream",
     "text": [
      "Computing embeddings...\n",
      "Storing embeddings...\n",
      "Done!\n"
     ]
    }
   ],
   "source": [
    "emb = CorpusEmbed(sentence_df=df)"
   ]
  },
  {
   "cell_type": "code",
   "execution_count": 6,
   "metadata": {},
   "outputs": [
    {
     "name": "stdout",
     "output_type": "stream",
     "text": [
      "\n",
      "\n",
      "Phrase: A well mixed model does not take into account the spatial distribution of the population\n",
      "Related papers:\n",
      "----------\n",
      "id: 2201.07960\n",
      "categories: q-bio.PE\n",
      "sentence: We show how to analyze communities with spatiotemporal fluctuations, how to parse the importance of spatial variation and temporal variation, and how to measure everything with either mathematical expressions or simulation experiments\n",
      "Similarity: 0.8762686252593994\n",
      "----------\n",
      "----------\n",
      "id: 1902.06971\n",
      "categories: q-bio.PE\n",
      "sentence: The model we propose is stochastic and individual-based, which allows us taking into account the behaviour of individuals depending on their size and location, as well as individual stochasticity\n",
      "Similarity: 0.874065637588501\n",
      "----------\n",
      "----------\n",
      "id: 1609.02721\n",
      "categories: q-bio.PE cond-mat.stat-mech nlin.AO physics.bio-ph q-bio.QM\n",
      "sentence: The average number of species as a function of area has a steep initial increase, followed by decreasing slopes at large scales\n",
      "Similarity: 0.8729876279830933\n",
      "----------\n",
      "----------\n",
      "id: 0901.1464\n",
      "categories: q-bio.GN q-bio.PE\n",
      "sentence: Evolution of the Age Structured Populations and Demography\n",
      "Similarity: 0.8600512742996216\n",
      "----------\n",
      "----------\n",
      "id: 2211.03515\n",
      "categories: q-bio.PE math.PR\n",
      "sentence: The classical infinitesimal model is a simple and robust model for the inheritance of quantitative traits\n",
      "Similarity: 0.8492218852043152\n",
      "----------\n",
      "----------\n",
      "id: 1306.1215\n",
      "categories: q-bio.PE\n",
      "sentence: This approximation generates accurate and efficient predictions for the genetic diversity that cannot be summarized by a simple reduction in effective population size\n",
      "Similarity: 0.8471768498420715\n",
      "----------\n",
      "----------\n",
      "id: 2112.02361\n",
      "categories: q-bio.QM q-bio.NC q-bio.PE\n",
      "sentence: Here we review studies that have taken a network view on modern datasets to provide unique insights into individual and collective animal behaviors\n",
      "Similarity: 0.8445573449134827\n",
      "----------\n"
     ]
    }
   ],
   "source": [
    "emb.search_reference(\"A well mixed model does not take into account the spatial distribution of the population\")"
   ]
  },
  {
   "cell_type": "code",
   "execution_count": null,
   "metadata": {},
   "outputs": [],
   "source": []
  }
 ],
 "metadata": {
  "kernelspec": {
   "display_name": "Python 3",
   "language": "python",
   "name": "python3"
  },
  "language_info": {
   "codemirror_mode": {
    "name": "ipython",
    "version": 3
   },
   "file_extension": ".py",
   "mimetype": "text/x-python",
   "name": "python",
   "nbconvert_exporter": "python",
   "pygments_lexer": "ipython3",
   "version": "3.12.4"
  }
 },
 "nbformat": 4,
 "nbformat_minor": 2
}
